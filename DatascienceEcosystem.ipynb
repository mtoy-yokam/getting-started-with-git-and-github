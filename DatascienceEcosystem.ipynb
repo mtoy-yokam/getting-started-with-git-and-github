{
 "cells": [
  {
   "cell_type": "markdown",
   "id": "4864b1dd-1e2b-468f-8c6a-4fde46dcf001",
   "metadata": {},
   "source": [
    "# Data Science Tools and Ecosystem"
   ]
  },
  {
   "cell_type": "markdown",
   "id": "6823e5c4-92d3-4b83-8ab8-499075628e30",
   "metadata": {},
   "source": [
    "In this notebook, Data Science Tools and Ecosystem are summarized."
   ]
  },
  {
   "cell_type": "markdown",
   "id": "602b077e-ba09-4dca-ac7c-51ba263f5f82",
   "metadata": {},
   "source": [
    "**Objectives**\n",
    "- List popular languages for Data Science\n",
    "- List popular libraries for Data Science\n",
    "- Create tables in the notebook\n",
    "- Perform simple arithmetic operations\n",
    "- Comment lines"
   ]
  },
  {
   "cell_type": "markdown",
   "id": "35b5d215-cfc3-4180-b34c-1005397a9c52",
   "metadata": {},
   "source": [
    "Some of the popular languages that Data Scientists use are:\n",
    "- Python\n",
    "- R\n",
    "- Scala\n",
    "- Julia"
   ]
  },
  {
   "cell_type": "markdown",
   "id": "37b07858-a497-4e4e-ac49-97725138958d",
   "metadata": {},
   "source": [
    "Some of the commonly used libraries used by Data Scientists include:\n",
    "- matplotlib\n",
    "- seaborn\n",
    "- pandas\n",
    "- numpy\n",
    "- caret (for R)"
   ]
  },
  {
   "cell_type": "markdown",
   "id": "4b9af149-556f-4328-9fc9-0b2aab150f92",
   "metadata": {},
   "source": [
    "|Data Science Tools|\n",
    "|---|\n",
    "|JupyterLab|\n",
    "|RStudio|\n",
    "|Visual Studio|\n"
   ]
  },
  {
   "cell_type": "markdown",
   "id": "89d6fa53-87e1-4cb9-819b-827084eb4e07",
   "metadata": {},
   "source": [
    "### Below are a few examples of evaluating arithmetic expressions in Pyhton"
   ]
  },
  {
   "cell_type": "code",
   "execution_count": 1,
   "id": "3c557a02-d4a1-44be-ad10-84df423eb800",
   "metadata": {},
   "outputs": [
    {
     "data": {
      "text/plain": [
       "17"
      ]
     },
     "execution_count": 1,
     "metadata": {},
     "output_type": "execute_result"
    }
   ],
   "source": [
    "# This is a simple arithmetic expression to multiply then add integers\n",
    "(3*4)+5"
   ]
  },
  {
   "cell_type": "code",
   "execution_count": 2,
   "id": "8fdace4f-b6c1-4fc9-bd48-66937f46d3cf",
   "metadata": {},
   "outputs": [
    {
     "data": {
      "text/plain": [
       "3.3333333333333335"
      ]
     },
     "execution_count": 2,
     "metadata": {},
     "output_type": "execute_result"
    }
   ],
   "source": [
    "# This will convert 200 minutes to hours by dividing by 60\n",
    "200/60"
   ]
  },
  {
   "cell_type": "markdown",
   "id": "4593be18-8848-4a17-b446-4ef56c442875",
   "metadata": {},
   "source": [
    "## Author\n",
    "Muriel YOKAM"
   ]
  },
  {
   "cell_type": "code",
   "execution_count": null,
   "id": "b758ae5d-9a1a-4855-b18e-41db72e4ada5",
   "metadata": {},
   "outputs": [],
   "source": []
  }
 ],
 "metadata": {
  "kernelspec": {
   "display_name": "Python 3 (ipykernel)",
   "language": "python",
   "name": "python3"
  },
  "language_info": {
   "codemirror_mode": {
    "name": "ipython",
    "version": 3
   },
   "file_extension": ".py",
   "mimetype": "text/x-python",
   "name": "python",
   "nbconvert_exporter": "python",
   "pygments_lexer": "ipython3",
   "version": "3.13.0"
  }
 },
 "nbformat": 4,
 "nbformat_minor": 5
}
